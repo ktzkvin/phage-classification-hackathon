{
 "cells": [
  {
   "cell_type": "markdown",
   "id": "e8963b6a-8ebe-4924-ab31-d90d683e4acd",
   "metadata": {},
   "source": [
    "Test if it works:"
   ]
  },
  {
   "cell_type": "code",
   "execution_count": 1,
   "id": "3dcc75c2-a529-4f63-9dd3-d8ce47f0799f",
   "metadata": {},
   "outputs": [],
   "source": [
    "from evo import Evo\n",
    "from tqdm.auto import tqdm"
   ]
  },
  {
   "cell_type": "markdown",
   "id": "878bbeef-fa04-4708-becd-7aaa727ee639",
   "metadata": {},
   "source": [
    "### Importing both datasets (RefSeq & DeePhage)"
   ]
  },
  {
   "cell_type": "code",
   "execution_count": 2,
   "id": "0a80e225-9ca0-45ff-ad06-d0852a28ad41",
   "metadata": {},
   "outputs": [
    {
     "data": {
      "text/plain": [
       "'\\n%%bash\\nset -e  # stop on error\\n\\necho \"Création des dossiers...\"\\nmkdir -p datasets/refseq_simulated_metagenome\\nmkdir -p datasets/deephage_lifestyle\\n\\necho \"Téléchargement Dataset 3 (refseq_simulated_metagenome)...\"\\nwget -q -O datasets/refseq_simulated_metagenome.tar.gz https://phagos-rd-hackathon25-datasets.s3.eu-west-1.amazonaws.com/refseq_simulated_metagenome/refseq_simulated_metagenome.tar.gz\\necho \"Extraction Dataset 3...\"\\ntar -xzf datasets/refseq_simulated_metagenome.tar.gz -C datasets/refseq_simulated_metagenome\\nrm datasets/refseq_simulated_metagenome.tar.gz\\necho \"Dataset 3 prêt.\"\\n\\necho \"Téléchargement Dataset 4 (deephage_lifestyle)...\"\\nwget -q -O datasets/deephage_lifestyle.tar.gz https://s3.eu-west-1.amazonaws.com/phagos-rd-hackathon25-datasets/deephage/deephage_lifestyle.tar.gz\\necho \"Extraction Dataset 4...\"\\ntar -xzf datasets/deephage_lifestyle.tar.gz -C datasets/deephage_lifestyle\\nrm datasets/deephage_lifestyle.tar.gz\\necho \"Dataset 4 prêt.\"\\n\\necho \"Tous les datasets ont été installés.\"\\n'"
      ]
     },
     "execution_count": 2,
     "metadata": {},
     "output_type": "execute_result"
    }
   ],
   "source": [
    "\"\"\"\n",
    "%%bash\n",
    "set -e  # stop on error\n",
    "\n",
    "echo \"Création des dossiers...\"\n",
    "mkdir -p datasets/refseq_simulated_metagenome\n",
    "mkdir -p datasets/deephage_lifestyle\n",
    "\n",
    "echo \"Téléchargement Dataset 3 (refseq_simulated_metagenome)...\"\n",
    "wget -q -O datasets/refseq_simulated_metagenome.tar.gz https://phagos-rd-hackathon25-datasets.s3.eu-west-1.amazonaws.com/refseq_simulated_metagenome/refseq_simulated_metagenome.tar.gz\n",
    "echo \"Extraction Dataset 3...\"\n",
    "tar -xzf datasets/refseq_simulated_metagenome.tar.gz -C datasets/refseq_simulated_metagenome\n",
    "rm datasets/refseq_simulated_metagenome.tar.gz\n",
    "echo \"Dataset 3 prêt.\"\n",
    "\n",
    "echo \"Téléchargement Dataset 4 (deephage_lifestyle)...\"\n",
    "wget -q -O datasets/deephage_lifestyle.tar.gz https://s3.eu-west-1.amazonaws.com/phagos-rd-hackathon25-datasets/deephage/deephage_lifestyle.tar.gz\n",
    "echo \"Extraction Dataset 4...\"\n",
    "tar -xzf datasets/deephage_lifestyle.tar.gz -C datasets/deephage_lifestyle\n",
    "rm datasets/deephage_lifestyle.tar.gz\n",
    "echo \"Dataset 4 prêt.\"\n",
    "\n",
    "echo \"Tous les datasets ont été installés.\"\n",
    "\"\"\"\n"
   ]
  },
  {
   "cell_type": "markdown",
   "id": "c8d3a93c-4f9e-47e7-9c05-df9f424000a5",
   "metadata": {},
   "source": [
    "### Chargement des séquences FASTA DeePhage\n",
    "\n",
    "Nous utilisons uniquement les séquences **annotées manuellement** :\n",
    "\n",
    "- `Dataset-1_virulent.fasta` → phages **lytiques** (label `1`)\n",
    "- `Dataset-1_temperate.fasta` → phages **lysogéniques** (label `0`)\n"
   ]
  },
  {
   "cell_type": "code",
   "execution_count": 3,
   "id": "06e1dd36-387a-4075-8875-3209c9b4b8f8",
   "metadata": {},
   "outputs": [
    {
     "name": "stdout",
     "output_type": "stream",
     "text": [
      "225 séquences chargées.\n"
     ]
    }
   ],
   "source": [
    "from Bio import SeqIO\n",
    "\n",
    "def load_sequences(fasta_file, label):\n",
    "    sequences = []\n",
    "    for record in SeqIO.parse(fasta_file, \"fasta\"):\n",
    "        sequences.append((str(record.seq), label))\n",
    "    return sequences\n",
    "\n",
    "# Charger les deux jeux\n",
    "data = []\n",
    "data += load_sequences(\"datasets/deephage_lifestyle/Dataset-1_virulent.fasta\", 1)\n",
    "data += load_sequences(\"datasets/deephage_lifestyle/Dataset-1_temperate.fasta\", 0)\n",
    "\n",
    "print(f\"{len(data)} séquences chargées.\")\n"
   ]
  },
  {
   "cell_type": "code",
   "execution_count": 4,
   "id": "680a83ed-52ba-4ade-84af-ef599d93a050",
   "metadata": {},
   "outputs": [],
   "source": [
    "from torch.utils.data import DataLoader\n",
    "\n",
    "def collate_fn(batch):\n",
    "    sequences, labels = zip(*batch)\n",
    "    return list(sequences), list(labels)\n",
    "\n",
    "dataloader = DataLoader(data, batch_size=64, shuffle=True, collate_fn=collate_fn)\n"
   ]
  },
  {
   "cell_type": "markdown",
   "id": "d19fcd3e-b493-475e-ac88-70a2b0a09d0b",
   "metadata": {},
   "source": [
    "### Génération des embeddings avec Evo\n",
    "\n",
    "On encode chaque séquence d’ADN en un vecteur de représentation à l’aide du modèle `Evo`.\n"
   ]
  },
  {
   "cell_type": "code",
   "execution_count": 5,
   "id": "4015bb6a-bf8c-44e2-922b-6bcdfe3c5fe7",
   "metadata": {},
   "outputs": [
    {
     "data": {
      "application/vnd.jupyter.widget-view+json": {
       "model_id": "e3bf8cc20cbd4380ad7950b5830123b5",
       "version_major": 2,
       "version_minor": 0
      },
      "text/plain": [
       "Loading checkpoint shards:   0%|          | 0/3 [00:00<?, ?it/s]"
      ]
     },
     "metadata": {},
     "output_type": "display_data"
    },
    {
     "data": {
      "text/plain": [
       "StripedHyena(\n",
       "  (embedding_layer): VocabParallelEmbedding(512, 4096)\n",
       "  (norm): RMSNorm()\n",
       "  (unembed): VocabParallelEmbedding(512, 4096)\n",
       "  (blocks): ModuleList(\n",
       "    (0-7): 8 x ParallelGatedConvBlock(\n",
       "      (pre_norm): RMSNorm()\n",
       "      (post_norm): RMSNorm()\n",
       "      (filter): ParallelHyenaFilter()\n",
       "      (projections): Linear(in_features=4096, out_features=12288, bias=True)\n",
       "      (out_filter_dense): Linear(in_features=4096, out_features=4096, bias=True)\n",
       "      (mlp): ParallelGatedMLP(\n",
       "        (l1): Linear(in_features=4096, out_features=10928, bias=False)\n",
       "        (l2): Linear(in_features=4096, out_features=10928, bias=False)\n",
       "        (l3): Linear(in_features=10928, out_features=4096, bias=False)\n",
       "      )\n",
       "    )\n",
       "    (8): AttentionBlock(\n",
       "      (pre_norm): RMSNorm()\n",
       "      (post_norm): RMSNorm()\n",
       "      (inner_mha_cls): MHA(\n",
       "        (Wqkv): Linear(in_features=4096, out_features=12288, bias=True)\n",
       "        (inner_attn): FlashSelfAttention(\n",
       "          (drop): Dropout(p=0.0, inplace=False)\n",
       "        )\n",
       "        (inner_cross_attn): FlashCrossAttention(\n",
       "          (drop): Dropout(p=0.0, inplace=False)\n",
       "        )\n",
       "        (out_proj): Linear(in_features=4096, out_features=4096, bias=True)\n",
       "        (rotary_emb): LinearlyScaledRotaryEmbedding()\n",
       "      )\n",
       "      (mlp): ParallelGatedMLP(\n",
       "        (l1): Linear(in_features=4096, out_features=10928, bias=False)\n",
       "        (l2): Linear(in_features=4096, out_features=10928, bias=False)\n",
       "        (l3): Linear(in_features=10928, out_features=4096, bias=False)\n",
       "      )\n",
       "    )\n",
       "    (9-15): 7 x ParallelGatedConvBlock(\n",
       "      (pre_norm): RMSNorm()\n",
       "      (post_norm): RMSNorm()\n",
       "      (filter): ParallelHyenaFilter()\n",
       "      (projections): Linear(in_features=4096, out_features=12288, bias=True)\n",
       "      (out_filter_dense): Linear(in_features=4096, out_features=4096, bias=True)\n",
       "      (mlp): ParallelGatedMLP(\n",
       "        (l1): Linear(in_features=4096, out_features=10928, bias=False)\n",
       "        (l2): Linear(in_features=4096, out_features=10928, bias=False)\n",
       "        (l3): Linear(in_features=10928, out_features=4096, bias=False)\n",
       "      )\n",
       "    )\n",
       "    (16): AttentionBlock(\n",
       "      (pre_norm): RMSNorm()\n",
       "      (post_norm): RMSNorm()\n",
       "      (inner_mha_cls): MHA(\n",
       "        (Wqkv): Linear(in_features=4096, out_features=12288, bias=True)\n",
       "        (inner_attn): FlashSelfAttention(\n",
       "          (drop): Dropout(p=0.0, inplace=False)\n",
       "        )\n",
       "        (inner_cross_attn): FlashCrossAttention(\n",
       "          (drop): Dropout(p=0.0, inplace=False)\n",
       "        )\n",
       "        (out_proj): Linear(in_features=4096, out_features=4096, bias=True)\n",
       "        (rotary_emb): LinearlyScaledRotaryEmbedding()\n",
       "      )\n",
       "      (mlp): ParallelGatedMLP(\n",
       "        (l1): Linear(in_features=4096, out_features=10928, bias=False)\n",
       "        (l2): Linear(in_features=4096, out_features=10928, bias=False)\n",
       "        (l3): Linear(in_features=10928, out_features=4096, bias=False)\n",
       "      )\n",
       "    )\n",
       "    (17-23): 7 x ParallelGatedConvBlock(\n",
       "      (pre_norm): RMSNorm()\n",
       "      (post_norm): RMSNorm()\n",
       "      (filter): ParallelHyenaFilter()\n",
       "      (projections): Linear(in_features=4096, out_features=12288, bias=True)\n",
       "      (out_filter_dense): Linear(in_features=4096, out_features=4096, bias=True)\n",
       "      (mlp): ParallelGatedMLP(\n",
       "        (l1): Linear(in_features=4096, out_features=10928, bias=False)\n",
       "        (l2): Linear(in_features=4096, out_features=10928, bias=False)\n",
       "        (l3): Linear(in_features=10928, out_features=4096, bias=False)\n",
       "      )\n",
       "    )\n",
       "    (24): AttentionBlock(\n",
       "      (pre_norm): RMSNorm()\n",
       "      (post_norm): RMSNorm()\n",
       "      (inner_mha_cls): MHA(\n",
       "        (Wqkv): Linear(in_features=4096, out_features=12288, bias=True)\n",
       "        (inner_attn): FlashSelfAttention(\n",
       "          (drop): Dropout(p=0.0, inplace=False)\n",
       "        )\n",
       "        (inner_cross_attn): FlashCrossAttention(\n",
       "          (drop): Dropout(p=0.0, inplace=False)\n",
       "        )\n",
       "        (out_proj): Linear(in_features=4096, out_features=4096, bias=True)\n",
       "        (rotary_emb): LinearlyScaledRotaryEmbedding()\n",
       "      )\n",
       "      (mlp): ParallelGatedMLP(\n",
       "        (l1): Linear(in_features=4096, out_features=10928, bias=False)\n",
       "        (l2): Linear(in_features=4096, out_features=10928, bias=False)\n",
       "        (l3): Linear(in_features=10928, out_features=4096, bias=False)\n",
       "      )\n",
       "    )\n",
       "    (25-31): 7 x ParallelGatedConvBlock(\n",
       "      (pre_norm): RMSNorm()\n",
       "      (post_norm): RMSNorm()\n",
       "      (filter): ParallelHyenaFilter()\n",
       "      (projections): Linear(in_features=4096, out_features=12288, bias=True)\n",
       "      (out_filter_dense): Linear(in_features=4096, out_features=4096, bias=True)\n",
       "      (mlp): ParallelGatedMLP(\n",
       "        (l1): Linear(in_features=4096, out_features=10928, bias=False)\n",
       "        (l2): Linear(in_features=4096, out_features=10928, bias=False)\n",
       "        (l3): Linear(in_features=10928, out_features=4096, bias=False)\n",
       "      )\n",
       "    )\n",
       "  )\n",
       ")"
      ]
     },
     "execution_count": 5,
     "metadata": {},
     "output_type": "execute_result"
    }
   ],
   "source": [
    "from evo import Evo\n",
    "import torch\n",
    "\n",
    "device = \"cuda\" if torch.cuda.is_available() else \"cpu\"\n",
    "\n",
    "evo_model = Evo(\"evo-1-131k-base\")\n",
    "model, tokenizer = evo_model.model, evo_model.tokenizer\n",
    "model.to(device)\n",
    "model.eval()\n"
   ]
  },
  {
   "cell_type": "code",
   "execution_count": 6,
   "id": "a73ec05e-fd79-44db-858f-a4cb1555b687",
   "metadata": {},
   "outputs": [],
   "source": [
    "def get_representation(sequence):\n",
    "    tokens = tokenizer.tokenize(sequence)\n",
    "    input_ids = torch.tensor(tokens, dtype=torch.int32).unsqueeze(0).to(device)\n",
    "    with torch.no_grad():\n",
    "        logits, _ = model(input_ids)\n",
    "    return logits.mean(dim=1).squeeze().cpu()\n"
   ]
  },
  {
   "cell_type": "code",
   "execution_count": 9,
   "id": "78f077ec-ae2c-4816-8f46-c09b53fcf840",
   "metadata": {},
   "outputs": [
    {
     "name": "stderr",
     "output_type": "stream",
     "text": [
      "                                           "
     ]
    },
    {
     "name": "stdout",
     "output_type": "stream",
     "text": [
      "[3] Erreur: a bytes-like object is required, not 'list', ex: taatagggaaaaagttagtataaatttaca...\n",
      "[3] Erreur: a bytes-like object is required, not 'list', ex: tctgatataatataagattacctctcagaa...\n",
      "[3] Erreur: a bytes-like object is required, not 'list', ex: aaagacgctgttaaataatcagcctttaaa...\n",
      "[3] Erreur: a bytes-like object is required, not 'list', ex: tggtggggctacaccccttacaccataagc...\n"
     ]
    },
    {
     "name": "stderr",
     "output_type": "stream",
     "text": []
    },
    {
     "ename": "ValueError",
     "evalue": "need at least one array to stack",
     "output_type": "error",
     "traceback": [
      "\u001b[0;31m---------------------------------------------------------------------------\u001b[0m",
      "\u001b[0;31mValueError\u001b[0m                                Traceback (most recent call last)",
      "Cell \u001b[0;32mIn[9], line 17\u001b[0m\n\u001b[1;32m     13\u001b[0m     \u001b[38;5;28;01mexcept\u001b[39;00m \u001b[38;5;167;01mException\u001b[39;00m \u001b[38;5;28;01mas\u001b[39;00m e:\n\u001b[1;32m     14\u001b[0m         \u001b[38;5;28mprint\u001b[39m(\u001b[38;5;124mf\u001b[39m\u001b[38;5;124m\"\u001b[39m\u001b[38;5;124m[\u001b[39m\u001b[38;5;132;01m{\u001b[39;00mi\u001b[38;5;132;01m}\u001b[39;00m\u001b[38;5;124m] Erreur: \u001b[39m\u001b[38;5;132;01m{\u001b[39;00me\u001b[38;5;132;01m}\u001b[39;00m\u001b[38;5;124m, ex: \u001b[39m\u001b[38;5;132;01m{\u001b[39;00mseq[\u001b[38;5;241m0\u001b[39m][:\u001b[38;5;241m30\u001b[39m]\u001b[38;5;132;01m}\u001b[39;00m\u001b[38;5;124m...\u001b[39m\u001b[38;5;124m\"\u001b[39m)\n\u001b[0;32m---> 17\u001b[0m X \u001b[38;5;241m=\u001b[39m \u001b[43mnp\u001b[49m\u001b[38;5;241;43m.\u001b[39;49m\u001b[43mstack\u001b[49m\u001b[43m(\u001b[49m\u001b[43mX\u001b[49m\u001b[43m)\u001b[49m\n\u001b[1;32m     18\u001b[0m y \u001b[38;5;241m=\u001b[39m np\u001b[38;5;241m.\u001b[39marray(y)\n\u001b[1;32m     20\u001b[0m \u001b[38;5;28mprint\u001b[39m(\u001b[38;5;124m\"\u001b[39m\u001b[38;5;124mForme finale de X:\u001b[39m\u001b[38;5;124m\"\u001b[39m, X\u001b[38;5;241m.\u001b[39mshape)\n",
      "File \u001b[0;32m~/SageMaker/project-gamma/evo_env/lib/python3.10/site-packages/numpy/core/shape_base.py:445\u001b[0m, in \u001b[0;36mstack\u001b[0;34m(arrays, axis, out, dtype, casting)\u001b[0m\n\u001b[1;32m    443\u001b[0m arrays \u001b[38;5;241m=\u001b[39m [asanyarray(arr) \u001b[38;5;28;01mfor\u001b[39;00m arr \u001b[38;5;129;01min\u001b[39;00m arrays]\n\u001b[1;32m    444\u001b[0m \u001b[38;5;28;01mif\u001b[39;00m \u001b[38;5;129;01mnot\u001b[39;00m arrays:\n\u001b[0;32m--> 445\u001b[0m     \u001b[38;5;28;01mraise\u001b[39;00m \u001b[38;5;167;01mValueError\u001b[39;00m(\u001b[38;5;124m'\u001b[39m\u001b[38;5;124mneed at least one array to stack\u001b[39m\u001b[38;5;124m'\u001b[39m)\n\u001b[1;32m    447\u001b[0m shapes \u001b[38;5;241m=\u001b[39m {arr\u001b[38;5;241m.\u001b[39mshape \u001b[38;5;28;01mfor\u001b[39;00m arr \u001b[38;5;129;01min\u001b[39;00m arrays}\n\u001b[1;32m    448\u001b[0m \u001b[38;5;28;01mif\u001b[39;00m \u001b[38;5;28mlen\u001b[39m(shapes) \u001b[38;5;241m!=\u001b[39m \u001b[38;5;241m1\u001b[39m:\n",
      "\u001b[0;31mValueError\u001b[0m: need at least one array to stack"
     ]
    }
   ],
   "source": [
    "import numpy as np\n",
    "\n",
    "X = []\n",
    "y = []\n",
    "\n",
    "progressBar = tqdm(dataloader, desc=\"Loading...\", leave=False)\n",
    "\n",
    "for (seq, label) in progressBar:\n",
    "    try:\n",
    "        rep = get_representation(seq)\n",
    "        X.append(rep)\n",
    "        y.append(label)\n",
    "    except Exception as e:\n",
    "        print(f\"[{i}] Erreur: {e}, ex: {seq[0][:30]}...\")\n",
    "\n",
    "\n",
    "X = np.stack(X)\n",
    "y = np.array(y)\n",
    "\n",
    "print(\"Forme finale de X:\", X.shape)\n",
    "print(\"Forme finale de y:\", y.shape)\n"
   ]
  },
  {
   "cell_type": "code",
   "execution_count": 8,
   "id": "ca0e2d1f-e032-4372-9fe6-89abbde3fda1",
   "metadata": {},
   "outputs": [
    {
     "ename": "ModuleNotFoundError",
     "evalue": "No module named 'sklearn'",
     "output_type": "error",
     "traceback": [
      "\u001b[0;31m---------------------------------------------------------------------------\u001b[0m",
      "\u001b[0;31mModuleNotFoundError\u001b[0m                       Traceback (most recent call last)",
      "Cell \u001b[0;32mIn[8], line 1\u001b[0m\n\u001b[0;32m----> 1\u001b[0m \u001b[38;5;28;01mfrom\u001b[39;00m\u001b[38;5;250m \u001b[39m\u001b[38;5;21;01msklearn\u001b[39;00m\u001b[38;5;21;01m.\u001b[39;00m\u001b[38;5;21;01mlinear_model\u001b[39;00m\u001b[38;5;250m \u001b[39m\u001b[38;5;28;01mimport\u001b[39;00m LogisticRegression\n\u001b[1;32m      2\u001b[0m \u001b[38;5;28;01mfrom\u001b[39;00m\u001b[38;5;250m \u001b[39m\u001b[38;5;21;01msklearn\u001b[39;00m\u001b[38;5;21;01m.\u001b[39;00m\u001b[38;5;21;01mmodel_selection\u001b[39;00m\u001b[38;5;250m \u001b[39m\u001b[38;5;28;01mimport\u001b[39;00m train_test_split\n\u001b[1;32m      3\u001b[0m \u001b[38;5;28;01mfrom\u001b[39;00m\u001b[38;5;250m \u001b[39m\u001b[38;5;21;01msklearn\u001b[39;00m\u001b[38;5;21;01m.\u001b[39;00m\u001b[38;5;21;01mmetrics\u001b[39;00m\u001b[38;5;250m \u001b[39m\u001b[38;5;28;01mimport\u001b[39;00m classification_report, confusion_matrix\n",
      "\u001b[0;31mModuleNotFoundError\u001b[0m: No module named 'sklearn'"
     ]
    }
   ],
   "source": [
    "import sklearn\n",
    "from sklearn.linear_model import LogisticRegression\n",
    "from sklearn.model_selection import train_test_split\n",
    "from sklearn.metrics import classification_report, confusion_matrix\n",
    "\n",
    "# Split\n",
    "X_train, X_test, y_train, y_test = train_test_split(X, y, test_size=0.2, random_state=42)\n",
    "\n",
    "# Modèle\n",
    "clf = LogisticRegression(max_iter=1000)\n",
    "clf.fit(X_train, y_train)\n",
    "\n",
    "# Prédiction\n",
    "y_pred = clf.predict(X_test)\n",
    "\n",
    "# Résultats\n",
    "print(\"Rapport de classification :\\n\")\n",
    "print(classification_report(y_test, y_pred, target_names=[\"Lysogenic\", \"Lytic\"]))\n"
   ]
  },
  {
   "cell_type": "code",
   "execution_count": null,
   "id": "340272e1-6874-4b7c-b06e-8abcd0395f3e",
   "metadata": {},
   "outputs": [],
   "source": [
    "from sklearn.manifold import TSNE\n",
    "import matplotlib.pyplot as plt\n",
    "\n",
    "# t-SNE\n",
    "tsne = TSNE(n_components=2, perplexity=30, random_state=42)\n",
    "X_tsne = tsne.fit_transform(X)\n",
    "\n",
    "# Affichage\n",
    "plt.figure(figsize=(8,6))\n",
    "plt.scatter(X_tsne[y==0,0], X_tsne[y==0,1], c=\"blue\", label=\"Lysogenic (0)\", alpha=0.6)\n",
    "plt.scatter(X_tsne[y==1,0], X_tsne[y==1,1], c=\"red\", label=\"Lytic (1)\", alpha=0.6)\n",
    "plt.legend()\n",
    "plt.title(\"Projection t-SNE des séquences phage (Evo embeddings)\")\n",
    "plt.xlabel(\"t-SNE 1\")\n",
    "plt.ylabel(\"t-SNE 2\")\n",
    "plt.grid(True)\n",
    "plt.show()\n"
   ]
  },
  {
   "cell_type": "markdown",
   "id": "be45cf09-1e04-4c60-a4ea-ce854cd953de",
   "metadata": {},
   "source": [
    "### Classification des phages : modèle de régression logistique\n",
    "\n",
    "On entraîne un classifieur supervisé (`LogisticRegression`) pour prédire le style de vie du phage.\n"
   ]
  },
  {
   "cell_type": "code",
   "execution_count": null,
   "id": "98f6bedb-e8c7-48c1-8339-89b4b0121241",
   "metadata": {},
   "outputs": [],
   "source": []
  },
  {
   "cell_type": "code",
   "execution_count": null,
   "id": "e4667d45-25f6-4664-af94-fd5fce1d45ee",
   "metadata": {},
   "outputs": [],
   "source": []
  }
 ],
 "metadata": {
  "kernelspec": {
   "display_name": "Python (evo)",
   "language": "python",
   "name": "evo_env"
  },
  "language_info": {
   "codemirror_mode": {
    "name": "ipython",
    "version": 3
   },
   "file_extension": ".py",
   "mimetype": "text/x-python",
   "name": "python",
   "nbconvert_exporter": "python",
   "pygments_lexer": "ipython3",
   "version": "3.10.17"
  }
 },
 "nbformat": 4,
 "nbformat_minor": 5
}

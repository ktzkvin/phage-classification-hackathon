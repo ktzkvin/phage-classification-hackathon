{
 "cells": [
  {
   "cell_type": "code",
   "execution_count": 1,
   "id": "3dcc75c2-a529-4f63-9dd3-d8ce47f0799f",
   "metadata": {},
   "outputs": [
    {
     "data": {
      "application/vnd.jupyter.widget-view+json": {
       "model_id": "1fcee798ab2442e4a81d3d86840323da",
       "version_major": 2,
       "version_minor": 0
      },
      "text/plain": [
       "Loading checkpoint shards:   0%|          | 0/3 [00:00<?, ?it/s]"
      ]
     },
     "metadata": {},
     "output_type": "display_data"
    },
    {
     "name": "stdout",
     "output_type": "stream",
     "text": [
      "dd\n"
     ]
    }
   ],
   "source": [
    "from evo import Evo\n",
    "\n",
    "evo_model = Evo('evo-1-131k-base')\n",
    "test = print(\"dd\")\n"
   ]
  },
  {
   "cell_type": "code",
   "execution_count": 3,
   "id": "0a80e225-9ca0-45ff-ad06-d0852a28ad41",
   "metadata": {},
   "outputs": [
    {
     "name": "stdout",
     "output_type": "stream",
     "text": [
      "Création des dossiers...\n",
      "Téléchargement Dataset 3 (refseq_simulated_metagenome)...\n",
      "Extraction Dataset 3...\n",
      "Dataset 3 prêt.\n",
      "Téléchargement Dataset 4 (deephage_lifestyle)...\n",
      "Extraction Dataset 4...\n",
      "Dataset 4 prêt.\n",
      "Tous les datasets ont été installés.\n"
     ]
    }
   ],
   "source": [
    "%%bash\n",
    "set -e  # stop on error\n",
    "\n",
    "echo \"Création des dossiers...\"\n",
    "mkdir -p datasets/refseq_simulated_metagenome\n",
    "mkdir -p datasets/deephage_lifestyle\n",
    "\n",
    "echo \"Téléchargement Dataset 3 (refseq_simulated_metagenome)...\"\n",
    "wget -q -O datasets/refseq_simulated_metagenome.tar.gz https://phagos-rd-hackathon25-datasets.s3.eu-west-1.amazonaws.com/refseq_simulated_metagenome/refseq_simulated_metagenome.tar.gz\n",
    "echo \"Extraction Dataset 3...\"\n",
    "tar -xzf datasets/refseq_simulated_metagenome.tar.gz -C datasets/refseq_simulated_metagenome\n",
    "rm datasets/refseq_simulated_metagenome.tar.gz\n",
    "echo \"Dataset 3 prêt.\"\n",
    "\n",
    "echo \"Téléchargement Dataset 4 (deephage_lifestyle)...\"\n",
    "wget -q -O datasets/deephage_lifestyle.tar.gz https://s3.eu-west-1.amazonaws.com/phagos-rd-hackathon25-datasets/deephage/deephage_lifestyle.tar.gz\n",
    "echo \"Extraction Dataset 4...\"\n",
    "tar -xzf datasets/deephage_lifestyle.tar.gz -C datasets/deephage_lifestyle\n",
    "rm datasets/deephage_lifestyle.tar.gz\n",
    "echo \"Dataset 4 prêt.\"\n",
    "\n",
    "echo \"Tous les datasets ont été installés.\"\n"
   ]
  }
 ],
 "metadata": {
  "kernelspec": {
   "display_name": "Python (evo)",
   "language": "python",
   "name": "evo_env"
  },
  "language_info": {
   "codemirror_mode": {
    "name": "ipython",
    "version": 3
   },
   "file_extension": ".py",
   "mimetype": "text/x-python",
   "name": "python",
   "nbconvert_exporter": "python",
   "pygments_lexer": "ipython3",
   "version": "3.10.17"
  }
 },
 "nbformat": 4,
 "nbformat_minor": 5
}
